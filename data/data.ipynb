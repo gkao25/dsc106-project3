{
 "cells": [
  {
   "cell_type": "code",
   "execution_count": 1,
   "metadata": {},
   "outputs": [],
   "source": [
    "import pandas as pd \n",
    "import numpy as np\n"
   ]
  },
  {
   "cell_type": "code",
   "execution_count": 2,
   "metadata": {},
   "outputs": [],
   "source": [
    "df=pd.read_csv('all_songs_data_processed.csv')"
   ]
  },
  {
   "cell_type": "code",
   "execution_count": 3,
   "metadata": {},
   "outputs": [],
   "source": [
    "df['Release Date']=pd.to_datetime(df['Release Date'])\n",
    "df=df.dropna()"
   ]
  },
  {
   "cell_type": "code",
   "execution_count": 4,
   "metadata": {},
   "outputs": [],
   "source": [
    "df['year']=df['Release Date'].dt.year"
   ]
  },
  {
   "cell_type": "code",
   "execution_count": 5,
   "metadata": {},
   "outputs": [],
   "source": [
    "lyrics=df[['Corpus','year']]"
   ]
  },
  {
   "cell_type": "code",
   "execution_count": 6,
   "metadata": {},
   "outputs": [
    {
     "data": {
      "text/html": [
       "<div>\n",
       "<style scoped>\n",
       "    .dataframe tbody tr th:only-of-type {\n",
       "        vertical-align: middle;\n",
       "    }\n",
       "\n",
       "    .dataframe tbody tr th {\n",
       "        vertical-align: top;\n",
       "    }\n",
       "\n",
       "    .dataframe thead th {\n",
       "        text-align: right;\n",
       "    }\n",
       "</style>\n",
       "<table border=\"1\" class=\"dataframe\">\n",
       "  <thead>\n",
       "    <tr style=\"text-align: right;\">\n",
       "      <th></th>\n",
       "      <th>Corpus</th>\n",
       "      <th>year</th>\n",
       "    </tr>\n",
       "  </thead>\n",
       "  <tbody>\n",
       "    <tr>\n",
       "      <th>0</th>\n",
       "      <td>take little trip Colonel Jackson mighty Missis...</td>\n",
       "      <td>1959</td>\n",
       "    </tr>\n",
       "    <tr>\n",
       "      <th>5</th>\n",
       "      <td>night hope pray dream lover come way girl hold...</td>\n",
       "      <td>1959</td>\n",
       "    </tr>\n",
       "    <tr>\n",
       "      <th>19</th>\n",
       "      <td>feel like kiss ya exist kiss ya mind time know...</td>\n",
       "      <td>1959</td>\n",
       "    </tr>\n",
       "    <tr>\n",
       "      <th>26</th>\n",
       "      <td>leave record hop tell go soda pop go awhile ha...</td>\n",
       "      <td>1959</td>\n",
       "    </tr>\n",
       "    <tr>\n",
       "      <th>27</th>\n",
       "      <td>Bo bo doo doot doo doo doo doo go doo doot doo...</td>\n",
       "      <td>1959</td>\n",
       "    </tr>\n",
       "    <tr>\n",
       "      <th>...</th>\n",
       "      <td>...</td>\n",
       "      <td>...</td>\n",
       "    </tr>\n",
       "    <tr>\n",
       "      <th>6287</th>\n",
       "      <td>come hitchin boat Backin ramp old truck find b...</td>\n",
       "      <td>2023</td>\n",
       "    </tr>\n",
       "    <tr>\n",
       "      <th>6288</th>\n",
       "      <td>Pa tipos como tú uh uh uh uh oh oh oh oh Pa ti...</td>\n",
       "      <td>2023</td>\n",
       "    </tr>\n",
       "    <tr>\n",
       "      <th>6289</th>\n",
       "      <td>Grizz ah Squat beat happenin Bardi Big Latto B...</td>\n",
       "      <td>2023</td>\n",
       "    </tr>\n",
       "    <tr>\n",
       "      <th>6290</th>\n",
       "      <td>money Love history prove go tell religion punk...</td>\n",
       "      <td>2011</td>\n",
       "    </tr>\n",
       "    <tr>\n",
       "      <th>6291</th>\n",
       "      <td>right senior year summer disappear go ridin ol...</td>\n",
       "      <td>2022</td>\n",
       "    </tr>\n",
       "  </tbody>\n",
       "</table>\n",
       "<p>4422 rows × 2 columns</p>\n",
       "</div>"
      ],
      "text/plain": [
       "                                                 Corpus  year\n",
       "0     take little trip Colonel Jackson mighty Missis...  1959\n",
       "5     night hope pray dream lover come way girl hold...  1959\n",
       "19    feel like kiss ya exist kiss ya mind time know...  1959\n",
       "26    leave record hop tell go soda pop go awhile ha...  1959\n",
       "27    Bo bo doo doot doo doo doo doo go doo doot doo...  1959\n",
       "...                                                 ...   ...\n",
       "6287  come hitchin boat Backin ramp old truck find b...  2023\n",
       "6288  Pa tipos como tú uh uh uh uh oh oh oh oh Pa ti...  2023\n",
       "6289  Grizz ah Squat beat happenin Bardi Big Latto B...  2023\n",
       "6290  money Love history prove go tell religion punk...  2011\n",
       "6291  right senior year summer disappear go ridin ol...  2022\n",
       "\n",
       "[4422 rows x 2 columns]"
      ]
     },
     "execution_count": 6,
     "metadata": {},
     "output_type": "execute_result"
    }
   ],
   "source": [
    "lyrics"
   ]
  },
  {
   "cell_type": "code",
   "execution_count": 7,
   "metadata": {},
   "outputs": [],
   "source": [
    "def combine_strings(series):\n",
    "    return ' '.join(series.tolist())\n",
    "\n",
    "lyrics_per_year = lyrics.groupby('year')['Corpus'].agg(combine_strings).reset_index()"
   ]
  },
  {
   "cell_type": "code",
   "execution_count": 8,
   "metadata": {},
   "outputs": [
    {
     "data": {
      "text/html": [
       "<div>\n",
       "<style scoped>\n",
       "    .dataframe tbody tr th:only-of-type {\n",
       "        vertical-align: middle;\n",
       "    }\n",
       "\n",
       "    .dataframe tbody tr th {\n",
       "        vertical-align: top;\n",
       "    }\n",
       "\n",
       "    .dataframe thead th {\n",
       "        text-align: right;\n",
       "    }\n",
       "</style>\n",
       "<table border=\"1\" class=\"dataframe\">\n",
       "  <thead>\n",
       "    <tr style=\"text-align: right;\">\n",
       "      <th></th>\n",
       "      <th>year</th>\n",
       "      <th>Corpus</th>\n",
       "    </tr>\n",
       "  </thead>\n",
       "  <tbody>\n",
       "    <tr>\n",
       "      <th>0</th>\n",
       "      <td>1955</td>\n",
       "      <td>boondock boondock People cause town bear love ...</td>\n",
       "    </tr>\n",
       "    <tr>\n",
       "      <th>1</th>\n",
       "      <td>1957</td>\n",
       "      <td>Jingle bell jingle bell jingle bell rock Jingl...</td>\n",
       "    </tr>\n",
       "    <tr>\n",
       "      <th>2</th>\n",
       "      <td>1958</td>\n",
       "      <td>Shooby Doo Wop ba baa hey hey Shooby Doo Wop b...</td>\n",
       "    </tr>\n",
       "    <tr>\n",
       "      <th>3</th>\n",
       "      <td>1959</td>\n",
       "      <td>take little trip Colonel Jackson mighty Missis...</td>\n",
       "    </tr>\n",
       "    <tr>\n",
       "      <th>4</th>\n",
       "      <td>1960</td>\n",
       "      <td>sorry sorry fool know Love cruel oh oh oh oh o...</td>\n",
       "    </tr>\n",
       "    <tr>\n",
       "      <th>...</th>\n",
       "      <td>...</td>\n",
       "      <td>...</td>\n",
       "    </tr>\n",
       "    <tr>\n",
       "      <th>64</th>\n",
       "      <td>2020</td>\n",
       "      <td>everybody faking pain heal time honest yeah kn...</td>\n",
       "    </tr>\n",
       "    <tr>\n",
       "      <th>65</th>\n",
       "      <td>2021</td>\n",
       "      <td>Ooh Ooh Na na yeah see dance crowded room uh l...</td>\n",
       "    </tr>\n",
       "    <tr>\n",
       "      <th>66</th>\n",
       "      <td>2022</td>\n",
       "      <td>love nita cause legal fajitayou likeembe come ...</td>\n",
       "    </tr>\n",
       "    <tr>\n",
       "      <th>67</th>\n",
       "      <td>2023</td>\n",
       "      <td>Aha ha ha ha ha RealusBeats Пр р yeah Beat Box...</td>\n",
       "    </tr>\n",
       "    <tr>\n",
       "      <th>68</th>\n",
       "      <td>2024</td>\n",
       "      <td>seven day week seven day week way ride way rid...</td>\n",
       "    </tr>\n",
       "  </tbody>\n",
       "</table>\n",
       "<p>69 rows × 2 columns</p>\n",
       "</div>"
      ],
      "text/plain": [
       "    year                                             Corpus\n",
       "0   1955  boondock boondock People cause town bear love ...\n",
       "1   1957  Jingle bell jingle bell jingle bell rock Jingl...\n",
       "2   1958  Shooby Doo Wop ba baa hey hey Shooby Doo Wop b...\n",
       "3   1959  take little trip Colonel Jackson mighty Missis...\n",
       "4   1960  sorry sorry fool know Love cruel oh oh oh oh o...\n",
       "..   ...                                                ...\n",
       "64  2020  everybody faking pain heal time honest yeah kn...\n",
       "65  2021  Ooh Ooh Na na yeah see dance crowded room uh l...\n",
       "66  2022  love nita cause legal fajitayou likeembe come ...\n",
       "67  2023  Aha ha ha ha ha RealusBeats Пр р yeah Beat Box...\n",
       "68  2024  seven day week seven day week way ride way rid...\n",
       "\n",
       "[69 rows x 2 columns]"
      ]
     },
     "execution_count": 8,
     "metadata": {},
     "output_type": "execute_result"
    }
   ],
   "source": [
    "pd.DataFrame(lyrics_per_year)"
   ]
  },
  {
   "cell_type": "code",
   "execution_count": 12,
   "metadata": {},
   "outputs": [],
   "source": [
    "lyrics_per_year['Corpus']=lyrics_per_year['Corpus'].str.lower()\n",
    "lyrics = lyrics_per_year.rename(columns={'Corpus':'lyrics'})"
   ]
  },
  {
   "cell_type": "code",
   "execution_count": 10,
   "metadata": {},
   "outputs": [],
   "source": [
    "from sklearn.feature_extraction.text import CountVectorizer"
   ]
  },
  {
   "cell_type": "code",
   "execution_count": 24,
   "metadata": {},
   "outputs": [],
   "source": [
    "count_vector = CountVectorizer(lowercase = True)\n",
    "count_vektor = count_vector.fit_transform(lyrics['lyrics'])\n",
    "count_vektor = count_vektor.toarray()\n",
    "df = pd.DataFrame(data = count_vektor, columns = count_vector.get_feature_names_out())\n",
    "df['year'] = lyrics['year']\n",
    "df = df.set_index('year')\n",
    "df = df.reset_index()"
   ]
  },
  {
   "cell_type": "code",
   "execution_count": 43,
   "metadata": {},
   "outputs": [
    {
     "data": {
      "text/plain": [
       "Index(['year', 'love', 'oh', 'know', 'like', 'yeah', 'get', 'baby', 'let',\n",
       "       'come',\n",
       "       ...\n",
       "       'watch', 'gon', 'everybody', 'start', 'take', 'rock', 'high', 'yo',\n",
       "       'ride', 'work'],\n",
       "      dtype='object', length=101)"
      ]
     },
     "execution_count": 43,
     "metadata": {},
     "output_type": "execute_result"
    }
   ],
   "source": [
    "topfifty = df.sum().sort_values(ascending=False).index[:101]\n",
    "topfifty"
   ]
  },
  {
   "cell_type": "code",
   "execution_count": 46,
   "metadata": {},
   "outputs": [],
   "source": [
    "df.to_csv('processed_data.csv')"
   ]
  }
 ],
 "metadata": {
  "kernelspec": {
   "display_name": "Python 3 (ipykernel)",
   "language": "python",
   "name": "python3"
  },
  "language_info": {
   "codemirror_mode": {
    "name": "ipython",
    "version": 3
   },
   "file_extension": ".py",
   "mimetype": "text/x-python",
   "name": "python",
   "nbconvert_exporter": "python",
   "pygments_lexer": "ipython3",
   "version": "3.11.7"
  }
 },
 "nbformat": 4,
 "nbformat_minor": 4
}
